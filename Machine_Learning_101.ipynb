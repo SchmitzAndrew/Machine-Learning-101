{
  "nbformat": 4,
  "nbformat_minor": 0,
  "metadata": {
    "colab": {
      "name": "Machine Learning 101.ipynb",
      "provenance": [],
      "authorship_tag": "ABX9TyN5z+f01lBapx8M+NIngmtz",
      "include_colab_link": true
    },
    "kernelspec": {
      "name": "python3",
      "display_name": "Python 3"
    },
    "language_info": {
      "name": "python"
    }
  },
  "cells": [
    {
      "cell_type": "markdown",
      "metadata": {
        "id": "view-in-github",
        "colab_type": "text"
      },
      "source": [
        "<a href=\"https://colab.research.google.com/github/SchmitzAndrew/Machine-Learning-101/blob/main/Machine_Learning_101.ipynb\" target=\"_parent\"><img src=\"https://colab.research.google.com/assets/colab-badge.svg\" alt=\"Open In Colab\"/></a>"
      ]
    },
    {
      "cell_type": "markdown",
      "metadata": {
        "id": "tWxDIJDVIYGK"
      },
      "source": [
        "## **Welcome to Machine Learning 101**\n",
        "\n",
        "This notebook provides a brief example of using Machine Learning. \n",
        "\n",
        "If you want to follow along w/ edits, **CREATE A COPY :)**"
      ]
    },
    {
      "cell_type": "markdown",
      "metadata": {
        "id": "AlCjeHWKIxy_"
      },
      "source": [
        "\n",
        "# Reading the Data\n",
        "In this example, we will be estimating home prices using the ____ dataset. \n",
        "\n",
        "Before we begin, we need to open up the .csv containing the information about the homes:\n",
        "\n",
        "To do this, and many other forms of data manipulation/ analysis, we need pandas. Pandas is the most popular Python library used for this task. \n",
        "\n",
        "Although it can be a litle more complicated to read in data when it's in a Google Colab, this article shows the diffent ways: https://towardsdatascience.com/3-ways-to-load-csv-files-into-colab-7c14fcbdcb92"
      ]
    },
    {
      "cell_type": "code",
      "metadata": {
        "id": "ZlkKYPhvJMDo"
      },
      "source": [
        "import pandas as pd #by convention, pandas is imported as pd\n",
        "\n",
        "url = 'https://raw.githubusercontent.com/SchmitzAndrew/Machine-Learning-101/main/housing_data.csv'\n",
        "\n",
        "df = pd.read_csv(url)"
      ],
      "execution_count": 3,
      "outputs": []
    },
    {
      "cell_type": "markdown",
      "metadata": {
        "id": "uOR4azLOKHjQ"
      },
      "source": [
        "# Data Analysis\n",
        "\n",
        "Data analysis is incredibly important before you begin doing any machine learning work. \n",
        "\n",
        "Good data analysis allows you to:\n",
        "\n",
        "\n",
        "**Identify statistics about the data:**\n",
        "\n",
        "*   What is the mean of the data? What does that tell us about our expected result?\n",
        "*   What is the standard deviation of the data? What does this tell us about the accuracy of the data set?\n",
        "*   Is any of the data missing? Is it possible to fill these gaps in?\n",
        "*   Is all of the data in the same format? Does anything need to be converted? \n",
        "*   What conclusions can we make from visual represenations(graphs, charts) of the data?\n",
        "\n",
        "To make graphs, we need matplotlib:\n"
      ]
    },
    {
      "cell_type": "code",
      "metadata": {
        "id": "aOeaTzGcLa7s",
        "colab": {
          "base_uri": "https://localhost:8080/",
          "height": 968
        },
        "outputId": "4b187dd4-a492-46c5-cfca-2e1e298b94a3"
      },
      "source": [
        "import matplotlib.pyplot as plt #similar to pandas, matplot.lib is imported as plt\n",
        "\n",
        "#Let's print a summary of the data: \n",
        "\n",
        "print(df.info()) #Is all of the data there? What type is it?\n",
        "print(df.describe()) #What are some statistics about the data? \n",
        "print(df.columns) #What exactly do I have to work with?\n",
        "\n",
        "\n",
        "\n",
        "#Let's see how many houses have a waterfront view -> Isolate the data to one column\n",
        "print(df['waterfront'].value_counts())\n",
        "\n",
        "#Let's find the mean price\n",
        "print(df['price'].mean())\n",
        "\n",
        "#Let's see what the distribution in the year the houses were built is\n",
        "plt.hist(df['yr_built'], facecolor='blue', edgecolor='green', bins = 5)\n",
        "plt.xlabel('Year Built')\n",
        "plt.ylabel('Count')\n",
        "plt.show()\n",
        "\n"
      ],
      "execution_count": 38,
      "outputs": [
        {
          "output_type": "stream",
          "text": [
            "<class 'pandas.core.frame.DataFrame'>\n",
            "RangeIndex: 4600 entries, 0 to 4599\n",
            "Data columns (total 14 columns):\n",
            " #   Column         Non-Null Count  Dtype  \n",
            "---  ------         --------------  -----  \n",
            " 0   price          4600 non-null   float64\n",
            " 1   bedrooms       4600 non-null   int64  \n",
            " 2   bathrooms      4600 non-null   float64\n",
            " 3   sqft_living    4600 non-null   int64  \n",
            " 4   sqft_lot       4600 non-null   int64  \n",
            " 5   floors         4600 non-null   float64\n",
            " 6   waterfront     4600 non-null   int64  \n",
            " 7   view           4600 non-null   int64  \n",
            " 8   condition      4600 non-null   int64  \n",
            " 9   sqft_above     4600 non-null   int64  \n",
            " 10  sqft_basement  4600 non-null   int64  \n",
            " 11  yr_built       4600 non-null   int64  \n",
            " 12  statezip       4600 non-null   object \n",
            " 13  country        4600 non-null   object \n",
            "dtypes: float64(3), int64(9), object(2)\n",
            "memory usage: 503.2+ KB\n",
            "None\n",
            "              price     bedrooms  ...  sqft_basement     yr_built\n",
            "count  4.600000e+03  4600.000000  ...    4600.000000  4600.000000\n",
            "mean   5.519630e+05     3.400870  ...     312.081522  1970.786304\n",
            "std    5.638347e+05     0.908848  ...     464.137228    29.731848\n",
            "min    0.000000e+00     0.000000  ...       0.000000  1900.000000\n",
            "25%    3.228750e+05     3.000000  ...       0.000000  1951.000000\n",
            "50%    4.609435e+05     3.000000  ...       0.000000  1976.000000\n",
            "75%    6.549625e+05     4.000000  ...     610.000000  1997.000000\n",
            "max    2.659000e+07     9.000000  ...    4820.000000  2014.000000\n",
            "\n",
            "[8 rows x 12 columns]\n",
            "Index(['price', 'bedrooms', 'bathrooms', 'sqft_living', 'sqft_lot', 'floors',\n",
            "       'waterfront', 'view', 'condition', 'sqft_above', 'sqft_basement',\n",
            "       'yr_built', 'statezip', 'country'],\n",
            "      dtype='object')\n",
            "0    4567\n",
            "1      33\n",
            "Name: waterfront, dtype: int64\n",
            "551962.9884730439\n"
          ],
          "name": "stdout"
        },
        {
          "output_type": "display_data",
          "data": {
            "image/png": "[encoded data removed]",
            "text/plain": [
              "<Figure size 432x288 with 1 Axes>"
            ]
          },
          "metadata": {
            "tags": [],
            "needs_background": "light"
          }
        }
      ]
    },
    {
      "cell_type": "markdown",
      "metadata": {
        "id": "sIGWJgOetpHn"
      },
      "source": [
        "#Data Cleaning \n",
        "\n",
        "Before we begin implementing our Machine Learning model, we need to ensure that all of the data is usable. Let's do a little more data analysis for a couple of columns:"
      ]
    },
    {
      "cell_type": "code",
      "metadata": {
        "colab": {
          "base_uri": "https://localhost:8080/"
        },
        "id": "lzm1psK-tooW",
        "outputId": "8ca4d0f5-e636-44d0-aa84-4cd636db196d"
      },
      "source": [
        "#Examing Certain Columns:\n",
        "\n",
        "print(df['statezip'])\n",
        "print(df['country'])"
      ],
      "execution_count": 40,
      "outputs": [
        {
          "output_type": "stream",
          "text": [
            "0       WA 98133\n",
            "1       WA 98119\n",
            "2       WA 98042\n",
            "3       WA 98008\n",
            "4       WA 98052\n",
            "          ...   \n",
            "4595    WA 98133\n",
            "4596    WA 98007\n",
            "4597    WA 98059\n",
            "4598    WA 98178\n",
            "4599    WA 98042\n",
            "Name: statezip, Length: 4600, dtype: object\n",
            "0       USA\n",
            "1       USA\n",
            "2       USA\n",
            "3       USA\n",
            "4       USA\n",
            "       ... \n",
            "4595    USA\n",
            "4596    USA\n",
            "4597    USA\n",
            "4598    USA\n",
            "4599    USA\n",
            "Name: country, Length: 4600, dtype: object\n"
          ],
          "name": "stdout"
        }
      ]
    },
    {
      "cell_type": "markdown",
      "metadata": {
        "id": "NVBF3t6eyZRt"
      },
      "source": [
        "As you can see, the Zip Code won't be much use to us, and every value is the same in the country column. These columns won't help us, so let's remove them.\n",
        "\n"
      ]
    },
    {
      "cell_type": "code",
      "metadata": {
        "colab": {
          "base_uri": "https://localhost:8080/",
          "height": 402
        },
        "id": "JNw6xA6gzfKc",
        "outputId": "a509a252-2cf9-4385-a3ab-0ae9153a1d88"
      },
      "source": [
        "df.drop(['country', 'statezip'], axis = 1)"
      ],
      "execution_count": 45,
      "outputs": [
        {
          "output_type": "execute_result",
          "data": {
            "text/html": [
              "<div>\n",
              "<style scoped>\n",
              "    .dataframe tbody tr th:only-of-type {\n",
              "        vertical-align: middle;\n",
              "    }\n",
              "\n",
              "    .dataframe tbody tr th {\n",
              "        vertical-align: top;\n",
              "    }\n",
              "\n",
              "    .dataframe thead th {\n",
              "        text-align: right;\n",
              "    }\n",
              "</style>\n",
              "<table border=\"1\" class=\"dataframe\">\n",
              "  <thead>\n",
              "    <tr style=\"text-align: right;\">\n",
              "      <th></th>\n",
              "      <th>price</th>\n",
              "      <th>bedrooms</th>\n",
              "      <th>bathrooms</th>\n",
              "      <th>sqft_living</th>\n",
              "      <th>sqft_lot</th>\n",
              "      <th>floors</th>\n",
              "      <th>waterfront</th>\n",
              "      <th>view</th>\n",
              "      <th>condition</th>\n",
              "      <th>sqft_above</th>\n",
              "      <th>sqft_basement</th>\n",
              "      <th>yr_built</th>\n",
              "    </tr>\n",
              "  </thead>\n",
              "  <tbody>\n",
              "    <tr>\n",
              "      <th>0</th>\n",
              "      <td>3.130000e+05</td>\n",
              "      <td>3</td>\n",
              "      <td>1.50</td>\n",
              "      <td>1340</td>\n",
              "      <td>7912</td>\n",
              "      <td>1.5</td>\n",
              "      <td>0</td>\n",
              "      <td>0</td>\n",
              "      <td>3</td>\n",
              "      <td>1340</td>\n",
              "      <td>0</td>\n",
              "      <td>1955</td>\n",
              "    </tr>\n",
              "    <tr>\n",
              "      <th>1</th>\n",
              "      <td>2.384000e+06</td>\n",
              "      <td>5</td>\n",
              "      <td>2.50</td>\n",
              "      <td>3650</td>\n",
              "      <td>9050</td>\n",
              "      <td>2.0</td>\n",
              "      <td>0</td>\n",
              "      <td>4</td>\n",
              "      <td>5</td>\n",
              "      <td>3370</td>\n",
              "      <td>280</td>\n",
              "      <td>1921</td>\n",
              "    </tr>\n",
              "    <tr>\n",
              "      <th>2</th>\n",
              "      <td>3.420000e+05</td>\n",
              "      <td>3</td>\n",
              "      <td>2.00</td>\n",
              "      <td>1930</td>\n",
              "      <td>11947</td>\n",
              "      <td>1.0</td>\n",
              "      <td>0</td>\n",
              "      <td>0</td>\n",
              "      <td>4</td>\n",
              "      <td>1930</td>\n",
              "      <td>0</td>\n",
              "      <td>1966</td>\n",
              "    </tr>\n",
              "    <tr>\n",
              "      <th>3</th>\n",
              "      <td>4.200000e+05</td>\n",
              "      <td>3</td>\n",
              "      <td>2.25</td>\n",
              "      <td>2000</td>\n",
              "      <td>8030</td>\n",
              "      <td>1.0</td>\n",
              "      <td>0</td>\n",
              "      <td>0</td>\n",
              "      <td>4</td>\n",
              "      <td>1000</td>\n",
              "      <td>1000</td>\n",
              "      <td>1963</td>\n",
              "    </tr>\n",
              "    <tr>\n",
              "      <th>4</th>\n",
              "      <td>5.500000e+05</td>\n",
              "      <td>4</td>\n",
              "      <td>2.50</td>\n",
              "      <td>1940</td>\n",
              "      <td>10500</td>\n",
              "      <td>1.0</td>\n",
              "      <td>0</td>\n",
              "      <td>0</td>\n",
              "      <td>4</td>\n",
              "      <td>1140</td>\n",
              "      <td>800</td>\n",
              "      <td>1976</td>\n",
              "    </tr>\n",
              "    <tr>\n",
              "      <th>...</th>\n",
              "      <td>...</td>\n",
              "      <td>...</td>\n",
              "      <td>...</td>\n",
              "      <td>...</td>\n",
              "      <td>...</td>\n",
              "      <td>...</td>\n",
              "      <td>...</td>\n",
              "      <td>...</td>\n",
              "      <td>...</td>\n",
              "      <td>...</td>\n",
              "      <td>...</td>\n",
              "      <td>...</td>\n",
              "    </tr>\n",
              "    <tr>\n",
              "      <th>4595</th>\n",
              "      <td>3.081667e+05</td>\n",
              "      <td>3</td>\n",
              "      <td>1.75</td>\n",
              "      <td>1510</td>\n",
              "      <td>6360</td>\n",
              "      <td>1.0</td>\n",
              "      <td>0</td>\n",
              "      <td>0</td>\n",
              "      <td>4</td>\n",
              "      <td>1510</td>\n",
              "      <td>0</td>\n",
              "      <td>1954</td>\n",
              "    </tr>\n",
              "    <tr>\n",
              "      <th>4596</th>\n",
              "      <td>5.343333e+05</td>\n",
              "      <td>3</td>\n",
              "      <td>2.50</td>\n",
              "      <td>1460</td>\n",
              "      <td>7573</td>\n",
              "      <td>2.0</td>\n",
              "      <td>0</td>\n",
              "      <td>0</td>\n",
              "      <td>3</td>\n",
              "      <td>1460</td>\n",
              "      <td>0</td>\n",
              "      <td>1983</td>\n",
              "    </tr>\n",
              "    <tr>\n",
              "      <th>4597</th>\n",
              "      <td>4.169042e+05</td>\n",
              "      <td>3</td>\n",
              "      <td>2.50</td>\n",
              "      <td>3010</td>\n",
              "      <td>7014</td>\n",
              "      <td>2.0</td>\n",
              "      <td>0</td>\n",
              "      <td>0</td>\n",
              "      <td>3</td>\n",
              "      <td>3010</td>\n",
              "      <td>0</td>\n",
              "      <td>2009</td>\n",
              "    </tr>\n",
              "    <tr>\n",
              "      <th>4598</th>\n",
              "      <td>2.034000e+05</td>\n",
              "      <td>4</td>\n",
              "      <td>2.00</td>\n",
              "      <td>2090</td>\n",
              "      <td>6630</td>\n",
              "      <td>1.0</td>\n",
              "      <td>0</td>\n",
              "      <td>0</td>\n",
              "      <td>3</td>\n",
              "      <td>1070</td>\n",
              "      <td>1020</td>\n",
              "      <td>1974</td>\n",
              "    </tr>\n",
              "    <tr>\n",
              "      <th>4599</th>\n",
              "      <td>2.206000e+05</td>\n",
              "      <td>3</td>\n",
              "      <td>2.50</td>\n",
              "      <td>1490</td>\n",
              "      <td>8102</td>\n",
              "      <td>2.0</td>\n",
              "      <td>0</td>\n",
              "      <td>0</td>\n",
              "      <td>4</td>\n",
              "      <td>1490</td>\n",
              "      <td>0</td>\n",
              "      <td>1990</td>\n",
              "    </tr>\n",
              "  </tbody>\n",
              "</table>\n",
              "<p>4600 rows × 12 columns</p>\n",
              "</div>"
            ],
            "text/plain": [
              "             price  bedrooms  bathrooms  ...  sqft_above  sqft_basement  yr_built\n",
              "0     3.130000e+05         3       1.50  ...        1340              0      1955\n",
              "1     2.384000e+06         5       2.50  ...        3370            280      1921\n",
              "2     3.420000e+05         3       2.00  ...        1930              0      1966\n",
              "3     4.200000e+05         3       2.25  ...        1000           1000      1963\n",
              "4     5.500000e+05         4       2.50  ...        1140            800      1976\n",
              "...            ...       ...        ...  ...         ...            ...       ...\n",
              "4595  3.081667e+05         3       1.75  ...        1510              0      1954\n",
              "4596  5.343333e+05         3       2.50  ...        1460              0      1983\n",
              "4597  4.169042e+05         3       2.50  ...        3010              0      2009\n",
              "4598  2.034000e+05         4       2.00  ...        1070           1020      1974\n",
              "4599  2.206000e+05         3       2.50  ...        1490              0      1990\n",
              "\n",
              "[4600 rows x 12 columns]"
            ]
          },
          "metadata": {
            "tags": []
          },
          "execution_count": 45
        }
      ]
    },
    {
      "cell_type": "markdown",
      "metadata": {
        "id": "8TCYnsqvRkuV"
      },
      "source": [
        "#Applying the Decision Tree Algorithm\n",
        "\n",
        "Before we apply the algorithm, there are a couple of things that we need to define:\n",
        "\n",
        "\n",
        "\n",
        "*   What are the variables in the data we are using?\n",
        "*   What are we trying to find?\n",
        "\n",
        "\n"
      ]
    },
    {
      "cell_type": "code",
      "metadata": {
        "id": "eGKleG5bR8_K"
      },
      "source": [
        "from "
      ],
      "execution_count": null,
      "outputs": []
    },
    {
      "cell_type": "markdown",
      "metadata": {
        "id": "fa7SxbLbSHrX"
      },
      "source": [
        "# Interpreting the Result\n",
        "\n",
        "Although we got our result, we need to determine what it means.\n",
        "\n",
        "Let's try to improve our result with a different algorithm."
      ]
    },
    {
      "cell_type": "markdown",
      "metadata": {
        "id": "Bak8BTEgSdxn"
      },
      "source": [
        "#Random Forest\n",
        "\n",
        "Random forest is a more sophisitcated version of the decision tree alogithim that takes the average of multiple decision trees. \n",
        "\n",
        "It is implemented very similarly to the decision tree, but gives a more accurate result:"
      ]
    },
    {
      "cell_type": "code",
      "metadata": {
        "id": "EX1d3ItDTcUT"
      },
      "source": [
        "import "
      ],
      "execution_count": null,
      "outputs": []
    },
    {
      "cell_type": "markdown",
      "metadata": {
        "id": "8zwBNgCvTeU9"
      },
      "source": [
        "# Try it Yourself:\n",
        "\n",
        "Here's another example of machine learning. Try to fill in the gaps with what you learned above. \n"
      ]
    },
    {
      "cell_type": "code",
      "metadata": {
        "id": "3FJZ9vkKUdQE"
      },
      "source": [
        "import"
      ],
      "execution_count": null,
      "outputs": []
    },
    {
      "cell_type": "markdown",
      "metadata": {
        "id": "-wRI6q3JqDiK"
      },
      "source": [
        "# Additional Resources: \n",
        "\n",
        "Data Science Community: https://www.kaggle.com/\n",
        "\n",
        "Data Analysis: https://www.kaggle.com/kashnitsky/topic-1-exploratory-data-analysis-with-pandas\n",
        "\n",
        "Learn Data Science: https://www.kaggle.com/learn"
      ]
    }
  ]
}